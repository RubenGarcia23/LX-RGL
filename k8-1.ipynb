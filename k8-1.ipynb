{
 "cells": [
  {
   "cell_type": "code",
   "execution_count": 1,
   "metadata": {},
   "outputs": [],
   "source": [
    "planet = {\n",
    "    'name': 'Mars',\n",
    "    'moons': 2\n",
    "}"
   ]
  },
  {
   "cell_type": "code",
   "execution_count": 2,
   "metadata": {},
   "outputs": [
    {
     "name": "stdout",
     "output_type": "stream",
     "text": [
      "Mars has 2 moons\n"
     ]
    }
   ],
   "source": [
    "print(f'{planet[\"name\"]} has {planet[\"moons\"]} moons')"
   ]
  },
  {
   "cell_type": "code",
   "execution_count": 3,
   "metadata": {},
   "outputs": [],
   "source": [
    "planet['circumference (km)'] = {\n",
    "    'polar': 6752,\n",
    "    'equatorial': 6792\n",
    "}"
   ]
  },
  {
   "cell_type": "code",
   "execution_count": 4,
   "metadata": {},
   "outputs": [
    {
     "name": "stdout",
     "output_type": "stream",
     "text": [
      "Mars has a polar circumference of 6752\n"
     ]
    }
   ],
   "source": [
    "print(f'{planet[\"name\"]} has a polar circumference of {planet[\"circumference (km)\"][\"polar\"]}')"
   ]
  },
  {
   "cell_type": "code",
   "execution_count": 5,
   "metadata": {},
   "outputs": [
    {
     "ename": "NameError",
     "evalue": "name 'planet_moons' is not defined",
     "output_type": "error",
     "traceback": [
      "\u001b[0;31m---------------------------------------------------------------------------\u001b[0m",
      "\u001b[0;31mNameError\u001b[0m                                 Traceback (most recent call last)",
      "\u001b[1;32m/Users/alienvartan/Desktop/Custo X launch/K8/k8-1.ipynb Cell 5'\u001b[0m in \u001b[0;36m<module>\u001b[0;34m\u001b[0m\n\u001b[0;32m----> <a href='vscode-notebook-cell:/Users/alienvartan/Desktop/Custo%20X%20launch/K8/k8-1.ipynb#ch0000004?line=0'>1</a>\u001b[0m moons \u001b[39m=\u001b[39m planet_moons\u001b[39m.\u001b[39mvalues()\n\u001b[1;32m      <a href='vscode-notebook-cell:/Users/alienvartan/Desktop/Custo%20X%20launch/K8/k8-1.ipynb#ch0000004?line=1'>2</a>\u001b[0m planets \u001b[39m=\u001b[39m \u001b[39mlen\u001b[39m(planet_moons\u001b[39m.\u001b[39mkeys())\n",
      "\u001b[0;31mNameError\u001b[0m: name 'planet_moons' is not defined"
     ]
    }
   ],
   "source": [
    "moons = planet_moons.values()\n",
    "planets = len(planet_moons.keys())"
   ]
  },
  {
   "cell_type": "code",
   "execution_count": 6,
   "metadata": {},
   "outputs": [
    {
     "ename": "NameError",
     "evalue": "name 'moons' is not defined",
     "output_type": "error",
     "traceback": [
      "\u001b[0;31m---------------------------------------------------------------------------\u001b[0m",
      "\u001b[0;31mNameError\u001b[0m                                 Traceback (most recent call last)",
      "\u001b[1;32m/Users/alienvartan/Desktop/Custo X launch/K8/k8-1.ipynb Cell 6'\u001b[0m in \u001b[0;36m<module>\u001b[0;34m\u001b[0m\n\u001b[1;32m      <a href='vscode-notebook-cell:/Users/alienvartan/Desktop/Custo%20X%20launch/K8/k8-1.ipynb#ch0000005?line=0'>1</a>\u001b[0m total_moons \u001b[39m=\u001b[39m \u001b[39m0\u001b[39m\n\u001b[0;32m----> <a href='vscode-notebook-cell:/Users/alienvartan/Desktop/Custo%20X%20launch/K8/k8-1.ipynb#ch0000005?line=1'>2</a>\u001b[0m \u001b[39mfor\u001b[39;00m moon \u001b[39min\u001b[39;00m moons:\n\u001b[1;32m      <a href='vscode-notebook-cell:/Users/alienvartan/Desktop/Custo%20X%20launch/K8/k8-1.ipynb#ch0000005?line=2'>3</a>\u001b[0m     total_moons \u001b[39m=\u001b[39m total_moons \u001b[39m+\u001b[39m moon\n\u001b[1;32m      <a href='vscode-notebook-cell:/Users/alienvartan/Desktop/Custo%20X%20launch/K8/k8-1.ipynb#ch0000005?line=3'>4</a>\u001b[0m average \u001b[39m=\u001b[39m total_moons \u001b[39m/\u001b[39m planets\n",
      "\u001b[0;31mNameError\u001b[0m: name 'moons' is not defined"
     ]
    }
   ],
   "source": [
    "total_moons = 0\n",
    "for moon in moons:\n",
    "    total_moons = total_moons + moon\n",
    "average = total_moons / planets\n",
    "print(average)"
   ]
  }
 ],
 "metadata": {
  "interpreter": {
   "hash": "aee8b7b246df8f9039afb4144a1f6fd8d2ca17a180786b69acc140d282b71a49"
  },
  "kernelspec": {
   "display_name": "Python 3.10.2 64-bit",
   "language": "python",
   "name": "python3"
  },
  "language_info": {
   "codemirror_mode": {
    "name": "ipython",
    "version": 3
   },
   "file_extension": ".py",
   "mimetype": "text/x-python",
   "name": "python",
   "nbconvert_exporter": "python",
   "pygments_lexer": "ipython3",
   "version": "3.10.2"
  },
  "orig_nbformat": 4
 },
 "nbformat": 4,
 "nbformat_minor": 2
}
