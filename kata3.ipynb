{
 "cells": [
  {
   "cell_type": "code",
   "execution_count": 17,
   "metadata": {},
   "outputs": [
    {
     "name": "stdout",
     "output_type": "stream",
     "text": [
      "todochido\n"
     ]
    }
   ],
   "source": [
    "asteroide = 24\n",
    "if asteroide > 25:\n",
    "    print (\"Advertencia, se aproxima un asteroide, corra por su vida!!!\")\n",
    "else:\n",
    "    print (\"todochido\")"
   ]
  },
  {
   "cell_type": "code",
   "execution_count": 19,
   "metadata": {},
   "outputs": [
    {
     "name": "stdout",
     "output_type": "stream",
     "text": [
      "el rasho de luz no se ve\n"
     ]
    }
   ],
   "source": [
    "asteroide = 19\n",
    "if asteroide >= 20:\n",
    "    print (\"Se puede ver el rasho de luz desde la tierra!!!\")\n",
    "else:\n",
    "    print (\"el rasho de luz no se ve\")"
   ]
  },
  {
   "cell_type": "code",
   "execution_count": 40,
   "metadata": {},
   "outputs": [
    {
     "name": "stdout",
     "output_type": "stream",
     "text": [
      "todochido\n"
     ]
    }
   ],
   "source": [
    "asteroide_diametro = 26\n",
    "asterioide_velocidad = 19\n",
    "if asterioide_velocidad > 25 and asteroide_diametro > 25:\n",
    "    print  (\"Un asteroide peligros impactara la tierra\")\n",
    "elif  asterioide_velocidad >=20:\n",
    "    print (\"Se puede ver el rasho de luz desde la tierra!!!\")\n",
    "elif asteroide_diametro < 25:\n",
    "    print (\"todochido\")\n",
    "else:\n",
    "    print (\"todochido\")"
   ]
  }
 ],
 "metadata": {
  "interpreter": {
   "hash": "aee8b7b246df8f9039afb4144a1f6fd8d2ca17a180786b69acc140d282b71a49"
  },
  "kernelspec": {
   "display_name": "Python 3.10.2 64-bit",
   "language": "python",
   "name": "python3"
  },
  "language_info": {
   "codemirror_mode": {
    "name": "ipython",
    "version": 3
   },
   "file_extension": ".py",
   "mimetype": "text/x-python",
   "name": "python",
   "nbconvert_exporter": "python",
   "pygments_lexer": "ipython3",
   "version": "3.10.2"
  },
  "orig_nbformat": 4
 },
 "nbformat": 4,
 "nbformat_minor": 2
}
